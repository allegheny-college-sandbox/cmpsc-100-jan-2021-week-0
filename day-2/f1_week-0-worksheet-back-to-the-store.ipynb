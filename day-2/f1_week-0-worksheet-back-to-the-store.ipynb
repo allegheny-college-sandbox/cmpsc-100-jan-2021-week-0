{
 "cells": [
  {
   "cell_type": "markdown",
   "metadata": {},
   "source": [
    "# Worksheet 0.2.f1: Back to the Store\n",
    "\n",
    "Today, we're going back to the hardware store because I need some materials to fix...something. You'll find out in a future quiz what I broke, but _you can't tell anyone_ -- especially not G. Wiz.\n",
    "\n",
    "Finish the following code to:\n",
    "\n",
    "* iterate over the `list` using a `for` loop\n",
    "  * evaluate each `item` in `shopping_list`\n",
    "* add all of the prices for each item into a `subtotal`\n",
    "  * assume that we're only purchasing `1` of each item\n",
    "* find the `total` of all items\n",
    "  * Of course, `tax`\n",
    "* subtract `1` from the `quantity` `key` of each item in `store_inventory`\n",
    "* print each `item` in the `store inventory` followed by the `quantity` the format\n",
    "\n",
    "Your final output should look similar to this:\n",
    "\n",
    "```\n",
    "Subtotal: #.##\n",
    "Total: #.####\n",
    "screwdriver - ##\n",
    "wire - ##\n",
    "wall plug - ##\n",
    "spark plug - ##\n",
    "candy bar - ##\n",
    "```"
   ]
  },
  {
   "cell_type": "markdown",
   "metadata": {},
   "source": [
    "## Notes\n",
    "\n",
    "---\n",
    "\n",
    "This work should be completed in the [f1_week-0-worksheet-back-to-the-store.py](f1_week-0-worksheet-back-to-the-store.py) file. Recall that, during class, this is the way Python development is largely done. While we will still use notebooks like worksheets, when it comes to to real programming jobs, we're going to start getting the habit of programming real programs in `*.py` files.\n",
    "\n",
    "There's already some code in the file to get you started."
   ]
  },
  {
   "cell_type": "code",
   "execution_count": null,
   "metadata": {},
   "outputs": [],
   "source": []
  }
 ],
 "metadata": {
  "kernelspec": {
   "display_name": "Python 3",
   "language": "python",
   "name": "python3"
  },
  "language_info": {
   "codemirror_mode": {
    "name": "ipython",
    "version": 3
   },
   "file_extension": ".py",
   "mimetype": "text/x-python",
   "name": "python",
   "nbconvert_exporter": "python",
   "pygments_lexer": "ipython3",
   "version": "3.8.5"
  }
 },
 "nbformat": 4,
 "nbformat_minor": 4
}

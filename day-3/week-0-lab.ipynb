{
 "cells": [
  {
   "cell_type": "markdown",
   "metadata": {},
   "source": [
    "### CMPSC 100: G. Wiz and the Ballot Bonanza\n",
    "\n",
    "![GO VOTE](https://cs.allegheny.edu/sites/dluman/cmpsc100/cmpsc-100-ballot-bonanza.png)"
   ]
  },
  {
   "cell_type": "markdown",
   "metadata": {},
   "source": [
    "<div class=\"alert alert-block alert-warning\" id = \"warning\">\n",
    "The work this week also offers the opportunity to tie up the server in loopish operations. Should you be unable to run cells, simply locate the <b>Kernel</b> menu at the top of the screen and click <b>Interrupt Kernel</b>. This should jumpstart the kernel again and clear out the infinite loop behavior.</div>\n",
    "\n",
    "At times in a Gator's life, it's important to consider whether on not to get involved in the political process beyond merely being a voter. Realizing that they might make a very good Pond Representative, G. Wiz recently confronted this democratic _raison d'etre_. In a fiercely fought campaign against several other reptile representative candidates, G. Wiz awaits the election results from a fancy new computerized system which promises extremely fast results. May the...most...voted...for reptile win?\n",
    "\n",
    "The only problem is that _you_ have to write the machine. \n",
    "\n",
    "You've been given some test data, but the real votes will be counted when the `gradle grade` process runs.\n",
    "\n",
    "## General guidelines for laboratory sessions\n",
    "\n",
    "---\n",
    "\n",
    "* Follow steps carefully. Laboratory sessions often get a bit more complicated than their preceeding course sessions. Especially for early sessions which expose you to platforms with which you may not be familiar, take notes on commands you run and their corresponding effects/outputs. If you find yourself stuck on a step, let a TL or the professor know! Laboratory sessions do not mean that we won't guide you in the same way we do during other sessions.\n",
    "* Regularly ask and answer questions. Some of you may have more experience with the topics we're discussing than others. We can use this knowledge to our advantage. Let students try things for a while before offering help (always offer first). To ask questions, use your group's Slack channel or TL channels.\n",
    "* Store and transfer files using GitHub. Various forms of file storage are more or less volatile. You are responsible for backing up and storing files. If you're unsure of files which have been changed, you can always type git status in the terminal for your working folder to determine what you need to back up.\n",
    "* Keep all of your files. See above, but also remember that you're responsible for the files you create.\n",
    "* Back up your files regularly. See above (and above-above).\n",
    "* Review the Honor Code regularly when working. If you're taking a solution from another student or the Internet at-large (especially Stack Overflow), bear in mind that using these solutions can constitute a form of plagiarism that violates the Allegheny Honor Code. While it may seem easy and convenient to use these sources, it is equally easy and convenient to rely on them and create bad habits which include not attributing credit or relying exclusively on others to solve issues. Neither are productive uses of your intellect. Really."
   ]
  },
  {
   "cell_type": "markdown",
   "metadata": {},
   "source": [
    "## Requirements\n",
    "\n",
    "---\n",
    "\n",
    "### This notebook\n",
    "\n",
    "Your program should:\n",
    "\n",
    "* Create a `dict` called `ballot`\n",
    "* Take input of a candidate names until `N` entered at prompt\n",
    "  * Use the identifier `choice` to store and test this `input`\n",
    "* Add one vote to the selected candidate's vote total\n",
    "* Using a `for` loop, `print`, according to [sample output](#Sample-output) below:\n",
    "  * vote totals for all candidates\n",
    "  * the name of the winner\n",
    "  \n",
    "Note: your test data will not be as extensive as the data used by the grader; your work should satisfy both test and grader cases\n",
    "\n",
    "#### Hint(s)\n",
    "\n",
    "* Determining the winner may use an `if` statement\n",
    "\n",
    "### `reflection.md`\n",
    "\n",
    "* At least 300 words\n",
    "* Responds to all questions\n",
    "* Contains `0` `TODO` markers\n",
    "\n",
    "### Test data\n",
    "\n",
    "|Candidate | Votes |\n",
    "|----------|-------|\n",
    "|G. Wiz    | 6     |\n",
    "|Frogger   | 3     |\n",
    "|Slippy Toad | 4   |\n",
    "|Lyle Crocodile| 5   |\n",
    "|Yertle Turtle | 2   |"
   ]
  },
  {
   "cell_type": "markdown",
   "metadata": {},
   "source": [
    "### Sample output\n",
    "\n",
    "```\n",
    "Enter a candidate's name ([N]o to quit):  Frogger\n",
    "Enter a candidate's name ([N]o to quit):  Frogger\n",
    "Enter a candidate's name ([N]o to quit):  G. Wiz\n",
    ".\n",
    ".\n",
    ".\n",
    ".\n",
    ".\n",
    ".\n",
    "Enter a candidate's name ([N]o to quit):  N\n",
    "\n",
    "Frogger received 2 votes.\n",
    "G. Wiz received 1 votes.\n",
    "The winner is: Frogger\n",
    "```"
   ]
  },
  {
   "cell_type": "markdown",
   "metadata": {},
   "source": [
    "## Code space"
   ]
  },
  {
   "cell_type": "code",
   "execution_count": 1,
   "metadata": {},
   "outputs": [],
   "source": [
    "# TODO: Find out who wins the election by completing the program!"
   ]
  }
 ],
 "metadata": {
  "kernelspec": {
   "display_name": "Python 3",
   "language": "python",
   "name": "python3"
  },
  "language_info": {
   "codemirror_mode": {
    "name": "ipython",
    "version": 3
   },
   "file_extension": ".py",
   "mimetype": "text/x-python",
   "name": "python",
   "nbconvert_exporter": "python",
   "pygments_lexer": "ipython3",
   "version": "3.8.2"
  }
 },
 "nbformat": 4,
 "nbformat_minor": 4
}

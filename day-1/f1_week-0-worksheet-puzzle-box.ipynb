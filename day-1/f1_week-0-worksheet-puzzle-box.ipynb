{
 "cells": [
  {
   "cell_type": "markdown",
   "metadata": {},
   "source": [
    "# Worksheet 0.1.f1: The puzzle box\n",
    "\n",
    "For this worksheet, we're going to imagine that we have a brand new puzzle box with `3` buttons, each of which has two-states (\"pressed\" -- `True`, \"unpressed\" -- `False`). Our goal is to demonsrate how to open the puzzle box using the correct combinations of buttons. We need to combine our knowledge of these buttons (`booleans`) and what we've learned about `list`s with our new power of the `if` statement to figure out how to express the solution combination.\n",
    "\n",
    "\n",
    "|Combination number |`buttons[0]` |`buttons[1]` |`buttons[2]` |\n",
    "|-------------------|-------------|-------------|---------------|\n",
    "|1|`True` |`False` |`True`|\n",
    "|2|`True` |`False` |`False`|\n",
    "|3|`True` |`True` |`False`|\n",
    "|4|`False` |`False` |`False`|\n",
    "|5|`True` |`True` |`True`|\n",
    "|6|`False` |`False` |`True`|\n",
    "|7|`False` |`False` |`False`|\n",
    "|8|`True` |`True` |`True`|\n",
    "|9|`False`|`True` |`False`|\n",
    "\n",
    "One of these combinations is the \"winner.\" Which is it?"
   ]
  },
  {
   "cell_type": "markdown",
   "metadata": {},
   "source": [
    "## Notes\n",
    "\n",
    "---\n",
    "\n",
    "This work should be completed in the [f1_week-0-worksheet-puzzle-box.py](f1_week-0-worksheet-puzzle-box.py) file. Recall that, during class, this is the way Python development is largely done. While we will still use notebooks like worksheets, when it comes to to real programming jobs, we're going to start getting the habit of programming real programs in `*.py` files.\n",
    "\n",
    "There's already some code in the file to get you started."
   ]
  }
 ],
 "metadata": {
  "kernelspec": {
   "display_name": "Python 3",
   "language": "python",
   "name": "python3"
  },
  "language_info": {
   "codemirror_mode": {
    "name": "ipython",
    "version": 3
   },
   "file_extension": ".py",
   "mimetype": "text/x-python",
   "name": "python",
   "nbconvert_exporter": "python",
   "pygments_lexer": "ipython3",
   "version": "3.8.5"
  }
 },
 "nbformat": 4,
 "nbformat_minor": 4
}

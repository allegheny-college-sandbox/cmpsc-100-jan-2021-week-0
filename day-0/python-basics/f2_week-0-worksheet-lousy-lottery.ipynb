{
 "cells": [
  {
   "cell_type": "markdown",
   "metadata": {},
   "source": [
    "# Worksheet 0.0.f2: G. Wiz and the lousy lottery\n",
    "\n",
    "![Paper chase](https://raw.githubusercontent.com/allegheny-college-sandbox/cmpsc-100-spring-2020-lab-04/media/media/g-wiz-lousy-lottery.png)\n",
    "\n",
    "## Overview\n",
    "\n",
    "---\n",
    "\n",
    "G. Wiz is a wizard. A gator wizard, but still a wizard. And, they're a wizard who likes fancy wizard hats (like many). To fund their hat obsession, they play the Gator Kingdom Lottery frequently. And, after losing for many, many weeks, they decided to do someting slightly less-than-ethical. They dug out their crystal ball and predicted the lottery numbers.\n",
    "\n",
    "Needless to say, they won this week. However, they didn't take a look at the prize pool and won substantially less than hoped for: only $1337; still a non-trivial sum (to be fair).\n",
    "\n",
    "But, to add to their list of woes: G. Wiz isn't so good with money. They forgot that the Gator Kingdom charges a 9% tax on lottery winnings, so they take home just a bit less than the advertised number. Regardless, G. Wiz took a trip to the office to claim their prize and was still feeling a bit excited to be so flush with cash on the way home.\n",
    "\n",
    "Braving the soon-to-be autumnal cold, some CrocScouts outside a magazine stand were advertising cookies for $10.00 a box. Being expert marketers, the CrocScouts drove a hard bargain with our gator friend and managed to sell them 5 boxes.\n",
    "\n",
    "Having paid the scouts, the latest edition of the gossip magazine _The Clawparazzi_ caught G. Wiz's eye from the far side of the magazine rack. Ever a conaisseur of the latest celebrity gossip, they bought an issue for the $5.00 cover price, and had to pay the same 9% sales tax on top of that.\n",
    "\n",
    "Ambling by the mail box at the end of the lane, G. Wiz checked his mail only to find that they'd received an overdue notice for their Wizard Union dues ($200.00 with a tidy 16% late fee). \n",
    "\n",
    "Resolving to get current with the union, as they wrote the check they heard a knock at the door -- a few of G. Wiz's friends (Slippy Toad, Frogger, and Chompers) stopped by to honor an old promise that if any one of them ever won the Gator Kingdom lottery, they'd split it 4 ways. (In the Gator Kingdom, the lottery winner's name is published the day of the drawing, and G. Wiz's friends are avid players.)\n",
    "\n",
    "Finally settling down to count what was left over, G. Wiz needs to determine if they can afford a $215.00 hat (don't forget the tax!).\n",
    "\n",
    "And where do you come in? You can help G. Wiz account for everything they've paid out by making a ledger that lists each of their transactions and comes to the final conclusion as to whether or not they can afford their hat. Such a ledger looks like the following, with each of the `######` replaced by the actual expenditures plus a last line printing the amount that they have left."
   ]
  },
  {
   "cell_type": "markdown",
   "metadata": {},
   "source": [
    "### Required output\n",
    "\n",
    "```\n",
    "How G. Wiz spent their lottery money\n",
    "Initial amount:         1337.0\n",
    "Taxes paid:             ######\n",
    "CrocScout cookies:      ######\n",
    "Latest Clawparazzi:     ######\n",
    "Wizard Union dues:      ######\n",
    "Owed to friends:        ######\n",
    "Amount remaining:       ######\n",
    "```"
   ]
  },
  {
   "cell_type": "markdown",
   "metadata": {},
   "source": [
    "### tl;dr\n",
    "\n",
    "* G. Wiz is a wizard.\n",
    "  * Very important\n",
    "* They predicted the winning lottery numbers this week.\n",
    "* They won `$1337`.\n",
    "* The lottery charges a `9%` tax on all winnings\n",
    "* After getting their winnings, they bought `5` boxes of CrocScout cookies at `$10.00` each (no tax -- it's for a good cause, after all)\n",
    "* G. Wiz loves Gator Kingdom gossip; buys a _Clawparazzi_ for `$5.00` (don't forget `9%` tax!)\n",
    "* Got home, had to pay `$200` Wizard Union dues (with a `16%` late fee)\n",
    "* 3 friends came over, reminded G. Wiz of their obligation to split the winnings equally\n",
    "\n",
    "Bottom line: can G. Wiz afford a `$215.00` hat?\n",
    "\n",
    "Your job is to write a program that keeps track of all these transations in variables and poses the question is some _total amount_ left over _greater than_ `215.00`?"
   ]
  },
  {
   "cell_type": "markdown",
   "metadata": {},
   "source": [
    "## Notes\n",
    "\n",
    "---\n",
    "\n"
   ]
  },
  {
   "cell_type": "markdown",
   "metadata": {},
   "source": [
    "This work should be completed in the [f2_week-0-worksheet-lousy-lottery.py](f2_week-0-worksheet-lousy-lottery.py) file. Recall that, during class, this is the way Python development is largely done. While we will still use notebooks like worksheets, when it comes to to real programming jobs, we're going to start getting the habit of programming real programs in `*.py` files"
   ]
  }
 ],
 "metadata": {
  "kernelspec": {
   "display_name": "Python 3",
   "language": "python",
   "name": "python3"
  },
  "language_info": {
   "codemirror_mode": {
    "name": "ipython",
    "version": 3
   },
   "file_extension": ".py",
   "mimetype": "text/x-python",
   "name": "python",
   "nbconvert_exporter": "python",
   "pygments_lexer": "ipython3",
   "version": "3.8.5"
  }
 },
 "nbformat": 4,
 "nbformat_minor": 4
}

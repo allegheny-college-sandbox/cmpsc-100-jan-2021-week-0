{
 "cells": [
  {
   "cell_type": "markdown",
   "metadata": {},
   "source": [
    "# Worksheet 0.0.3: Markdown\n",
    "\n",
    "<div class=\"alert alert-block alert-warning\">\n",
    "    <p>This activity only works if we're in our JupyterLab environment. If you haven't finished the <a href = 'week-0-worksheet-1.md'>\"Cloning\" a repository</a> worksheet, please do so now.\n",
    "</div>\n",
    "\n",
    "## Table of contents\n",
    "\n",
    "---\n",
    "\n",
    "* [Markdown tidbits](#Markdown-tidbits)\n",
    "* [Double, double toil and trouble](#Double,-double-toil-and-trouble)\n",
    "* [Finishing this activity](#Finishing-this-activity)\n",
    "\n",
    "## Markdown tidbits\n",
    "\n",
    "---\n",
    "\n",
    "Before we get started here, I invite you to meet Professor Bonham-Carter, who provides an overview of Markdown in the video below: \n",
    "\n",
    "[![YouTube thumbnail](https://i3.ytimg.com/vi/s-oSuHFVnR4/hqdefault.jpg)](https://www.youtube.com/watch?v=s-oSuHFVnR4)\n",
    "\n",
    "## Double, double toil and trouble\n",
    "\n",
    "---\n",
    "\n",
    "There's no long or short of it: I'm hungry and I'm not feeling particularly creative. I need you to help me with both parts of that: I want a recipe for something tasty to make.\n",
    "\n",
    "That's your job. Mine was to tell you that I am hungry.\n",
    "\n",
    "So what does that mean for you?\n",
    "\n",
    "In [week-0-worksheet-3.md](week-0-worksheet-3.md), I'd like you to type a recipe which:\n",
    "\n",
    "1. Uses _only one_ (1) level-one heading (`#`)\n",
    "2. Uses _at least two_ (2) level-two headings (`##`)\n",
    "3. Uses _at least two_ (2) lists (`*`)\n",
    "4. Contains _at least one_ (1) paragraph describing the recipe (make it appealing, somehow)\n",
    "5. Contains at least one image\n",
    "  * Protip: you can copy/paste images _directly into_ the Markdown file\n",
    "  \n",
    "<div class=\"alert alert-block alert-info\">\n",
    "    <p>\n",
    "        <b>Tip:</b> In the <b>.md</b> file, right click and select \"Show Markdown Preview\" to open a live side-by-side preview of what your markdown will actually look like! \n",
    "    </p>\n",
    "</div>\n",
    "\n",
    "For an additional level of practice, double-click this text to see what my Markdown looks like!\n",
    "  \n",
    "## Finishing this activity\n",
    "\n",
    "---\n",
    "\n",
    "We'll verify that this activity is complete during [week-0-worksheet-5](week-0-worksheet-5.ipynb) activity. I'll test the relative quality and appeal of the outcome of the recipe later. That's, as we might say, subject to _taste_.\n",
    "\n",
    "(If you can't tell already, I have the jokes.)"
   ]
  }
 ],
 "metadata": {
  "kernelspec": {
   "display_name": "Python 3",
   "language": "python",
   "name": "python3"
  },
  "language_info": {
   "codemirror_mode": {
    "name": "ipython",
    "version": 3
   },
   "file_extension": ".py",
   "mimetype": "text/x-python",
   "name": "python",
   "nbconvert_exporter": "python",
   "pygments_lexer": "ipython3",
   "version": "3.8.5"
  }
 },
 "nbformat": 4,
 "nbformat_minor": 4
}
